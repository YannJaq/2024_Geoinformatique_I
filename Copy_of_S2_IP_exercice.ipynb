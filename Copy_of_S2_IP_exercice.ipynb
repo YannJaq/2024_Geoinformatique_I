{
  "cells": [
    {
      "cell_type": "markdown",
      "metadata": {
        "id": "view-in-github",
        "colab_type": "text"
      },
      "source": [
        "<a href=\"https://colab.research.google.com/github/YannJaq/2024_Geoinformatique_I/blob/main/Copy_of_S2_IP_exercice.ipynb\" target=\"_parent\"><img src=\"https://colab.research.google.com/assets/colab-badge.svg\" alt=\"Open In Colab\"/></a>"
      ]
    },
    {
      "cell_type": "markdown",
      "metadata": {
        "id": "ZXnjONpwCaJ5"
      },
      "source": [
        "# Exercice 2 - Structure de contrôle"
      ]
    },
    {
      "cell_type": "markdown",
      "metadata": {
        "id": "OyMIBjQrCaJ6"
      },
      "source": [
        "## Conditions if, else, elif"
      ]
    },
    {
      "cell_type": "markdown",
      "metadata": {
        "id": "caKuJ59zjW39"
      },
      "source": [
        "**1. Vérification de la parité**"
      ]
    },
    {
      "cell_type": "code",
      "execution_count": null,
      "metadata": {
        "id": "wkrwV1yvjW3-",
        "colab": {
          "base_uri": "https://localhost:8080/",
          "height": 124
        },
        "outputId": "305c9c35-4e4b-4763-aad8-9cf21bf1825d"
      },
      "outputs": [
        {
          "output_type": "error",
          "ename": "SyntaxError",
          "evalue": "invalid syntax (<ipython-input-2-dc907426932c>, line 4)",
          "traceback": [
            "\u001b[0;36m  File \u001b[0;32m\"<ipython-input-2-dc907426932c>\"\u001b[0;36m, line \u001b[0;32m4\u001b[0m\n\u001b[0;31m    if nombre % 2 ==  :\u001b[0m\n\u001b[0m                      ^\u001b[0m\n\u001b[0;31mSyntaxError\u001b[0m\u001b[0;31m:\u001b[0m invalid syntax\n"
          ]
        }
      ],
      "source": [
        "# Ecrivez votre code ici\n",
        "nombre = 12 #Entrez un nombre entier\n",
        "\n",
        "if  % 2 ==  :\n",
        "    print(\"Pair\")\n",
        "else:\n",
        "    print(\"Impaire\")"
      ]
    },
    {
      "cell_type": "code",
      "source": [
        "a = 11\n",
        "if a % 2 == 0:\n",
        "    print(\"Pair\")\n",
        "else:\n",
        "    print(\"Impaire\")"
      ],
      "metadata": {
        "colab": {
          "base_uri": "https://localhost:8080/"
        },
        "id": "qhEGNn2sF1HH",
        "outputId": "54290a95-c495-4a7c-e37f-5dea08dc3d20"
      },
      "execution_count": null,
      "outputs": [
        {
          "output_type": "stream",
          "name": "stdout",
          "text": [
            "Impaire\n"
          ]
        }
      ]
    },
    {
      "cell_type": "markdown",
      "metadata": {
        "id": "b1goU-5bjW3_"
      },
      "source": [
        "**2. Comparaison de deux nombres**"
      ]
    },
    {
      "cell_type": "code",
      "execution_count": null,
      "metadata": {
        "id": "SkjaBcb-jW3_",
        "colab": {
          "base_uri": "https://localhost:8080/"
        },
        "outputId": "c5aaab44-3267-41e7-f3a0-e1eee8840826"
      },
      "outputs": [
        {
          "output_type": "stream",
          "name": "stdout",
          "text": [
            "Le premier nombre est plus grand.\n"
          ]
        }
      ],
      "source": [
        "nombre1 = 3.5 #Entrez un chiffre à virgule\n",
        "nombre2 = 3.4 #Entrez un deuxième chiffre à virgule\n",
        "\n",
        "if nombre1 > nombre2:\n",
        "    print(\"Le premier nombre est plus grand.\")\n",
        "elif nombre2 > nombre1:\n",
        "    print(\"Le deuxième nombre est plus grand.\")\n",
        "else:\n",
        "    print(\"Les deux nombres sont égaux\")"
      ]
    },
    {
      "cell_type": "code",
      "source": [
        "a = 85\n",
        "b = 88\n",
        "if a > b:\n",
        "    print(\"le premier nombre est plus grand\")\n",
        "elif b > a:\n",
        "    print(\"le deuxième nombre est plus grand\")\n",
        "else:\n",
        "    print(\"les deux nombres sont égaux\")"
      ],
      "metadata": {
        "colab": {
          "base_uri": "https://localhost:8080/"
        },
        "id": "UuOLi0Xcyp6Z",
        "outputId": "d27f63f9-5062-4e51-a2f3-4217b48290e5"
      },
      "execution_count": null,
      "outputs": [
        {
          "output_type": "stream",
          "name": "stdout",
          "text": [
            "le deuxième nombre est plus grand\n"
          ]
        }
      ]
    },
    {
      "cell_type": "code",
      "source": [
        "my_dict = {a:85,b:88}\n",
        "if a > b:\n",
        "    print(\"le premier nombre est plus grand\")\n",
        "elif b > a:\n",
        "    print(\"le deuxième nombre est plus grand\")\n",
        "else:\n",
        "    print(\"les deux nombres sont égaux\")\n",
        "if a % 2 == 0:\n",
        "    print(\"a est pair\")\n",
        "else:\n",
        "    print(\"a est impair\")\n",
        "if b % 2 == 0:\n",
        "    print(\"b est pair\")\n",
        "else:\n",
        "    print(\"b est impair\")"
      ],
      "metadata": {
        "colab": {
          "base_uri": "https://localhost:8080/"
        },
        "id": "ALDHwbo40zX-",
        "outputId": "6969d66c-e0e2-4f7a-b2a0-87c08ce8a388"
      },
      "execution_count": null,
      "outputs": [
        {
          "output_type": "stream",
          "name": "stdout",
          "text": [
            "le deuxième nombre est plus grand\n",
            "a est impair\n",
            "b est pair\n"
          ]
        }
      ]
    },
    {
      "cell_type": "code",
      "source": [
        "a = 85\n",
        "b = 88\n",
        "if a > b:\n",
        "  print(\"le premier nombre est plus grand\")\n",
        "elif b > a:\n",
        "  print(\"le deuxième est plus grand\")\n",
        "elif a % 2 == 0:\n",
        "  print(\"a est pair\")\n",
        "elif b % 2 == 0:\n",
        "  print(\"b est pair\")\n",
        "else:\n",
        "  print(\"ces nombres sont égaux\")"
      ],
      "metadata": {
        "colab": {
          "base_uri": "https://localhost:8080/"
        },
        "id": "TIyV_ukRNt7i",
        "outputId": "502c5493-89ee-476b-98ea-c6e9a3b73892"
      },
      "execution_count": null,
      "outputs": [
        {
          "output_type": "stream",
          "name": "stdout",
          "text": [
            "le deuxième est plus grand\n"
          ]
        }
      ]
    },
    {
      "cell_type": "markdown",
      "metadata": {
        "id": "gkNLNNSNjW3_"
      },
      "source": [
        "**3. Catégorisation d'âges**"
      ]
    },
    {
      "cell_type": "code",
      "execution_count": null,
      "metadata": {
        "id": "h1AnFjiKjW4A",
        "colab": {
          "base_uri": "https://localhost:8080/"
        },
        "outputId": "c5ec15f2-6e40-44d4-806b-89593b6d2df7"
      },
      "outputs": [
        {
          "output_type": "stream",
          "name": "stdout",
          "text": [
            "Adulte\n"
          ]
        }
      ],
      "source": [
        "age = 24 # Entrez un nombre entier\n",
        "if age < 12:\n",
        "    print(\"Enfant\")\n",
        "elif 12 <= age < 18:\n",
        "    print(\"Adolescent\")\n",
        "elif 18 <= age < 65:\n",
        "    print(\"Adulte\")\n",
        "else:\n",
        "    print(\"Senior\")"
      ]
    },
    {
      "cell_type": "code",
      "source": [],
      "metadata": {
        "id": "heZ8cLUqFtQE"
      },
      "execution_count": null,
      "outputs": []
    },
    {
      "cell_type": "markdown",
      "metadata": {
        "id": "agjI6dl_CaJ7"
      },
      "source": [
        "## Boucle for et while"
      ]
    },
    {
      "cell_type": "markdown",
      "metadata": {
        "id": "jbGswyVvjW4A"
      },
      "source": [
        "**1. Ecrire une boucle `while` pour afficher les valeurs des classements d'une liste de lecture d'albums stockée dans la liste <code>PlayListRatings</code>. Si le score est inférieur à 6, on sort de la boucle. La liste <code>PlayListRatings</code> est donnée par : <code>PlayListRatings = [10, 9.5, 10, 8, 7.5, 5, 10, 10]</code>**"
      ]
    },
    {
      "cell_type": "code",
      "execution_count": null,
      "metadata": {
        "id": "ploHyFu2jW4A"
      },
      "outputs": [],
      "source": [
        "# Ecrivez votre code ici\n",
        "PlayListRating = [10, 9.5, 10, 8, 7.5, 5, 10, 10]\n",
        "\n",
        "# Astuce : Utilisez l'indexation de la liste comme critère (longueur de votre liste)\n",
        "indx = 0\n",
        "while <len(______________):\n",
        "  if ____________[____]<6:\n",
        "    ____\n",
        "  else:\n",
        "    print(_________[____])\n",
        "  ____+=1"
      ]
    },
    {
      "cell_type": "code",
      "source": [
        "PlayListRating = [10, 9.5,10, 8, 7.5, 5, 10, 10]\n",
        "print(PlayListRating[0:8])\n",
        "a = 0\n",
        "while a<len(PlayListRating):\n",
        "  if PlayListRating[a]<6:\n",
        "    break\n",
        "  else:\n",
        "    print(PlayListRating[a])\n",
        "  a+=1"
      ],
      "metadata": {
        "colab": {
          "base_uri": "https://localhost:8080/"
        },
        "id": "EIpMlaPf2srs",
        "outputId": "eb54df51-3bd9-4941-efe5-7836b20340cc"
      },
      "execution_count": null,
      "outputs": [
        {
          "output_type": "stream",
          "name": "stdout",
          "text": [
            "[10, 9.5, 10, 8, 7.5, 5, 10, 10]\n",
            "10\n",
            "9.5\n",
            "10\n",
            "8\n",
            "7.5\n"
          ]
        }
      ]
    },
    {
      "cell_type": "code",
      "source": [
        "PlayListRating[a]\n",
        "PlayListRating = [10, 9.5,10, 8, 7.5, 5, 12, 17]\n",
        "a = 8\n",
        "print(PlayListRating[a])\n"
      ],
      "metadata": {
        "colab": {
          "base_uri": "https://localhost:8080/",
          "height": 176
        },
        "id": "XiYavlgg5C-n",
        "outputId": "2aa1380e-79d7-4ea0-e3f5-66194e454530"
      },
      "execution_count": null,
      "outputs": [
        {
          "output_type": "error",
          "ename": "IndexError",
          "evalue": "list index out of range",
          "traceback": [
            "\u001b[0;31m---------------------------------------------------------------------------\u001b[0m",
            "\u001b[0;31mIndexError\u001b[0m                                Traceback (most recent call last)",
            "\u001b[0;32m<ipython-input-35-2758bc13bbf3>\u001b[0m in \u001b[0;36m<cell line: 4>\u001b[0;34m()\u001b[0m\n\u001b[1;32m      2\u001b[0m \u001b[0mPlayListRating\u001b[0m \u001b[0;34m=\u001b[0m \u001b[0;34m[\u001b[0m\u001b[0;36m10\u001b[0m\u001b[0;34m,\u001b[0m \u001b[0;36m9.5\u001b[0m\u001b[0;34m,\u001b[0m\u001b[0;36m10\u001b[0m\u001b[0;34m,\u001b[0m \u001b[0;36m8\u001b[0m\u001b[0;34m,\u001b[0m \u001b[0;36m7.5\u001b[0m\u001b[0;34m,\u001b[0m \u001b[0;36m5\u001b[0m\u001b[0;34m,\u001b[0m \u001b[0;36m12\u001b[0m\u001b[0;34m,\u001b[0m \u001b[0;36m17\u001b[0m\u001b[0;34m]\u001b[0m\u001b[0;34m\u001b[0m\u001b[0;34m\u001b[0m\u001b[0m\n\u001b[1;32m      3\u001b[0m \u001b[0ma\u001b[0m \u001b[0;34m=\u001b[0m \u001b[0;36m8\u001b[0m\u001b[0;34m\u001b[0m\u001b[0;34m\u001b[0m\u001b[0m\n\u001b[0;32m----> 4\u001b[0;31m \u001b[0mprint\u001b[0m\u001b[0;34m(\u001b[0m\u001b[0mPlayListRating\u001b[0m\u001b[0;34m[\u001b[0m\u001b[0ma\u001b[0m\u001b[0;34m]\u001b[0m\u001b[0;34m)\u001b[0m\u001b[0;34m\u001b[0m\u001b[0;34m\u001b[0m\u001b[0m\n\u001b[0m",
            "\u001b[0;31mIndexError\u001b[0m: list index out of range"
          ]
        }
      ]
    },
    {
      "cell_type": "code",
      "source": [
        "PlayListRating = [10, 9.5,10, 8, 7.5, 5, 10, 10]\n",
        "print(PlayListRating[0:8])\n",
        "a = 0\n",
        "while a<len(PlayListRating):\n",
        "  if PlayListRating[a]<6:\n",
        "    pass\n",
        "  else:\n",
        "    print(PlayListRating[a])\n",
        "  a+=1"
      ],
      "metadata": {
        "colab": {
          "base_uri": "https://localhost:8080/"
        },
        "id": "8ybj32cxCWoA",
        "outputId": "ddfe6a80-fd49-4ff1-f08a-41a4c64f1ccb"
      },
      "execution_count": null,
      "outputs": [
        {
          "output_type": "stream",
          "name": "stdout",
          "text": [
            "[10, 9.5, 10, 8, 7.5, 5, 10, 10]\n",
            "10\n",
            "9.5\n",
            "10\n",
            "8\n",
            "7.5\n",
            "10\n",
            "10\n"
          ]
        }
      ]
    },
    {
      "cell_type": "code",
      "source": [
        "PlayListRating = [10, 9.5,10, 8, 7.5, 5, 10, 10]\n",
        "print(PlayListRating[0:8])\n",
        "len(PlayListRating)\n",
        "a = 0\n",
        "while a<len(PlayListRating):\n",
        "  if PlayListRating[a]<6:\n",
        "    continue\n",
        "  else:\n",
        "    print(PlayListRating[a])\n",
        "  a+=1"
      ],
      "metadata": {
        "colab": {
          "base_uri": "https://localhost:8080/",
          "height": 315
        },
        "id": "4dAXF6WZC4eR",
        "outputId": "e0712a76-d7f6-4cab-ea70-61b5e49519ec"
      },
      "execution_count": null,
      "outputs": [
        {
          "output_type": "stream",
          "name": "stdout",
          "text": [
            "[10, 9.5, 10, 8, 7.5, 5, 10, 10]\n",
            "10\n",
            "9.5\n",
            "10\n",
            "8\n",
            "7.5\n"
          ]
        },
        {
          "output_type": "error",
          "ename": "KeyboardInterrupt",
          "evalue": "",
          "traceback": [
            "\u001b[0;31m---------------------------------------------------------------------------\u001b[0m",
            "\u001b[0;31mKeyboardInterrupt\u001b[0m                         Traceback (most recent call last)",
            "\u001b[0;32m<ipython-input-32-25b999d64f60>\u001b[0m in \u001b[0;36m<cell line: 5>\u001b[0;34m()\u001b[0m\n\u001b[1;32m      3\u001b[0m \u001b[0mlen\u001b[0m\u001b[0;34m(\u001b[0m\u001b[0mPlayListRating\u001b[0m\u001b[0;34m)\u001b[0m\u001b[0;34m\u001b[0m\u001b[0;34m\u001b[0m\u001b[0m\n\u001b[1;32m      4\u001b[0m \u001b[0ma\u001b[0m \u001b[0;34m=\u001b[0m \u001b[0;36m0\u001b[0m\u001b[0;34m\u001b[0m\u001b[0;34m\u001b[0m\u001b[0m\n\u001b[0;32m----> 5\u001b[0;31m \u001b[0;32mwhile\u001b[0m \u001b[0ma\u001b[0m\u001b[0;34m<\u001b[0m\u001b[0mlen\u001b[0m\u001b[0;34m(\u001b[0m\u001b[0mPlayListRating\u001b[0m\u001b[0;34m)\u001b[0m\u001b[0;34m:\u001b[0m\u001b[0;34m\u001b[0m\u001b[0;34m\u001b[0m\u001b[0m\n\u001b[0m\u001b[1;32m      6\u001b[0m   \u001b[0;32mif\u001b[0m \u001b[0mPlayListRating\u001b[0m\u001b[0;34m[\u001b[0m\u001b[0ma\u001b[0m\u001b[0;34m]\u001b[0m\u001b[0;34m<\u001b[0m\u001b[0;36m6\u001b[0m\u001b[0;34m:\u001b[0m\u001b[0;34m\u001b[0m\u001b[0;34m\u001b[0m\u001b[0m\n\u001b[1;32m      7\u001b[0m     \u001b[0;32mcontinue\u001b[0m\u001b[0;34m\u001b[0m\u001b[0;34m\u001b[0m\u001b[0m\n",
            "\u001b[0;31mKeyboardInterrupt\u001b[0m: "
          ]
        }
      ]
    },
    {
      "cell_type": "markdown",
      "metadata": {
        "id": "WHXaD4_3jW4A"
      },
      "source": [
        "**2. Répétez ce que vous venez de faire, cette fois en utilisant une boucle `for`**."
      ]
    },
    {
      "cell_type": "code",
      "execution_count": null,
      "metadata": {
        "id": "CIgtC_4zjW4A"
      },
      "outputs": [],
      "source": [
        "for ____ in range(len(______________)):\n",
        "  if _____________[____]<6:\n",
        "    ____\n",
        "  else:\n",
        "    print(_____________[____])"
      ]
    },
    {
      "cell_type": "code",
      "source": [
        "PlayListRating = [10, 9.5,10, 8, 7.5, 5, 10, 10]\n",
        "for a in range(len(PlayListRating)):\n",
        "  if PlayListRating[a]<6:\n",
        "    break\n",
        "  else:\n",
        "    print(PlayListRating[a])"
      ],
      "metadata": {
        "colab": {
          "base_uri": "https://localhost:8080/"
        },
        "id": "gjH4uf-_D4l-",
        "outputId": "bdd6e614-8708-4dbb-fa74-8fc7bba34cc9"
      },
      "execution_count": null,
      "outputs": [
        {
          "output_type": "stream",
          "name": "stdout",
          "text": [
            "10\n",
            "9.5\n",
            "10\n",
            "8\n",
            "7.5\n"
          ]
        }
      ]
    },
    {
      "cell_type": "markdown",
      "metadata": {
        "id": "VZQhdaf5jW4B"
      },
      "source": [
        "**3. Ecrivez une boucle `for` qui imprime (affiche) la liste suivante : <code>carres=['rouge', 'jaune', 'vert', 'violet', 'bleu']</code>**"
      ]
    },
    {
      "cell_type": "code",
      "execution_count": null,
      "metadata": {
        "id": "kh8TmInPjW4B"
      },
      "outputs": [],
      "source": [
        "carres = [] # An empty list\n",
        "for ___,___ in enumerate([_____________________]):\n",
        "  carres.append(___) # Here you add (append) the elements one by one to the empty list\n",
        "\n",
        "print(carres)"
      ]
    },
    {
      "cell_type": "code",
      "source": [
        "carres = []\n",
        "liste1 = [\"rouge\",\"jaune\", \"vert\",\"violet\", \"bleu\"]\n",
        "carres.extend(liste1)\n",
        "print(carres)"
      ],
      "metadata": {
        "colab": {
          "base_uri": "https://localhost:8080/"
        },
        "id": "OKYDhKnKMyAe",
        "outputId": "cf1089b9-b1ef-48d7-e5e1-9f76da175728"
      },
      "execution_count": 61,
      "outputs": [
        {
          "output_type": "stream",
          "name": "stdout",
          "text": [
            "['rouge', 'jaune', 'vert', 'violet', 'bleu']\n"
          ]
        }
      ]
    },
    {
      "cell_type": "code",
      "source": [
        "carres = []\n",
        "for i in range(1):\n",
        "  liste1\n",
        "  carres.extend(liste1)\n",
        "print(carres)"
      ],
      "metadata": {
        "colab": {
          "base_uri": "https://localhost:8080/"
        },
        "id": "heGdoEZtQule",
        "outputId": "a1d60e95-3963-4beb-885e-bee6298a6706"
      },
      "execution_count": 62,
      "outputs": [
        {
          "output_type": "stream",
          "name": "stdout",
          "text": [
            "['rouge', 'jaune', 'vert', 'violet', 'bleu']\n"
          ]
        }
      ]
    }
  ],
  "metadata": {
    "colab": {
      "provenance": [],
      "include_colab_link": true
    },
    "kernelspec": {
      "display_name": "imports_TM",
      "language": "python",
      "name": "python3"
    },
    "language_info": {
      "name": "python",
      "version": "3.9.18"
    }
  },
  "nbformat": 4,
  "nbformat_minor": 0
}